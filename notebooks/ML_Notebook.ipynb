{
 "cells": [
  {
   "cell_type": "code",
   "execution_count": 1,
   "id": "fe683cbe-6e51-4f18-af19-4a25a511f7ac",
   "metadata": {},
   "outputs": [],
   "source": [
    "import numpy as np\n",
    "import pandas as pd\n",
    "import matplotlib.pyplot as plt"
   ]
  },
  {
   "cell_type": "code",
   "execution_count": 2,
   "id": "669e0652-9ad0-44e5-8143-cb59be66ea72",
   "metadata": {},
   "outputs": [
    {
     "data": {
      "text/html": [
       "<div>\n",
       "<style scoped>\n",
       "    .dataframe tbody tr th:only-of-type {\n",
       "        vertical-align: middle;\n",
       "    }\n",
       "\n",
       "    .dataframe tbody tr th {\n",
       "        vertical-align: top;\n",
       "    }\n",
       "\n",
       "    .dataframe thead th {\n",
       "        text-align: right;\n",
       "    }\n",
       "</style>\n",
       "<table border=\"1\" class=\"dataframe\">\n",
       "  <thead>\n",
       "    <tr style=\"text-align: right;\">\n",
       "      <th></th>\n",
       "      <th>Card Identifier</th>\n",
       "      <th>Transaction Date</th>\n",
       "      <th>Transaction Time</th>\n",
       "      <th>Risk Assessment</th>\n",
       "      <th>Payment Method</th>\n",
       "      <th>Transaction Value</th>\n",
       "      <th>Merchant Location</th>\n",
       "      <th>Card Present Status</th>\n",
       "      <th>Chip Usage</th>\n",
       "      <th>Cross-border Transaction (Yes/No)</th>\n",
       "      <th>Acquiring Institution ID</th>\n",
       "      <th>Merchant Identifier</th>\n",
       "      <th>Merchant Category Code (MCC)</th>\n",
       "      <th>Fraud Indicator (Yes/No)</th>\n",
       "    </tr>\n",
       "  </thead>\n",
       "  <tbody>\n",
       "    <tr>\n",
       "      <th>0</th>\n",
       "      <td>card 1</td>\n",
       "      <td>2023-05-11</td>\n",
       "      <td>16:22:14.0</td>\n",
       "      <td>362.0</td>\n",
       "      <td>Paypass - Contactless</td>\n",
       "      <td>13.98</td>\n",
       "      <td>USA</td>\n",
       "      <td>CP</td>\n",
       "      <td>Yes</td>\n",
       "      <td>No</td>\n",
       "      <td>acquirer 1</td>\n",
       "      <td>merchant 1</td>\n",
       "      <td>5812.0</td>\n",
       "      <td>No</td>\n",
       "    </tr>\n",
       "    <tr>\n",
       "      <th>1</th>\n",
       "      <td>card 2</td>\n",
       "      <td>2023-06-05</td>\n",
       "      <td>15:16:35.0</td>\n",
       "      <td>602.0</td>\n",
       "      <td>Online</td>\n",
       "      <td>24.64</td>\n",
       "      <td>USA</td>\n",
       "      <td>CNP</td>\n",
       "      <td>No</td>\n",
       "      <td>No</td>\n",
       "      <td>acquirer 2</td>\n",
       "      <td>merchant 2</td>\n",
       "      <td>4121.0</td>\n",
       "      <td>No</td>\n",
       "    </tr>\n",
       "    <tr>\n",
       "      <th>2</th>\n",
       "      <td>card 3</td>\n",
       "      <td>2023-06-05</td>\n",
       "      <td>11:57:40.0</td>\n",
       "      <td>482.0</td>\n",
       "      <td>Unknown</td>\n",
       "      <td>15.00</td>\n",
       "      <td>USA</td>\n",
       "      <td>CNP</td>\n",
       "      <td>No</td>\n",
       "      <td>No</td>\n",
       "      <td>acquirer 3</td>\n",
       "      <td>merchant 3</td>\n",
       "      <td>7211.0</td>\n",
       "      <td>No</td>\n",
       "    </tr>\n",
       "    <tr>\n",
       "      <th>3</th>\n",
       "      <td>card 4</td>\n",
       "      <td>2023-07-20</td>\n",
       "      <td>18:26:30.0</td>\n",
       "      <td>947.0</td>\n",
       "      <td>Online</td>\n",
       "      <td>30.56</td>\n",
       "      <td>USA</td>\n",
       "      <td>CNP</td>\n",
       "      <td>No</td>\n",
       "      <td>No</td>\n",
       "      <td>acquirer 1</td>\n",
       "      <td>merchant 4</td>\n",
       "      <td>5814.0</td>\n",
       "      <td>No</td>\n",
       "    </tr>\n",
       "    <tr>\n",
       "      <th>4</th>\n",
       "      <td>card 5</td>\n",
       "      <td>2023-03-03</td>\n",
       "      <td>19:03:11.0</td>\n",
       "      <td>1382.0</td>\n",
       "      <td>Magnetic Stripe</td>\n",
       "      <td>50.85</td>\n",
       "      <td>USA</td>\n",
       "      <td>CP</td>\n",
       "      <td>No</td>\n",
       "      <td>No</td>\n",
       "      <td>acquirer 4</td>\n",
       "      <td>merchant 1</td>\n",
       "      <td>5812.0</td>\n",
       "      <td>No</td>\n",
       "    </tr>\n",
       "  </tbody>\n",
       "</table>\n",
       "</div>"
      ],
      "text/plain": [
       "  Card Identifier Transaction Date Transaction Time  Risk Assessment  \\\n",
       "0          card 1       2023-05-11       16:22:14.0            362.0   \n",
       "1          card 2       2023-06-05       15:16:35.0            602.0   \n",
       "2          card 3       2023-06-05       11:57:40.0            482.0   \n",
       "3          card 4       2023-07-20       18:26:30.0            947.0   \n",
       "4          card 5       2023-03-03       19:03:11.0           1382.0   \n",
       "\n",
       "          Payment Method  Transaction Value Merchant Location  \\\n",
       "0  Paypass - Contactless              13.98               USA   \n",
       "1                 Online              24.64               USA   \n",
       "2                Unknown              15.00               USA   \n",
       "3                 Online              30.56               USA   \n",
       "4        Magnetic Stripe              50.85               USA   \n",
       "\n",
       "  Card Present Status Chip Usage Cross-border Transaction (Yes/No)  \\\n",
       "0                  CP        Yes                                No   \n",
       "1                 CNP         No                                No   \n",
       "2                 CNP         No                                No   \n",
       "3                 CNP         No                                No   \n",
       "4                  CP         No                                No   \n",
       "\n",
       "  Acquiring Institution ID Merchant Identifier  Merchant Category Code (MCC)  \\\n",
       "0               acquirer 1          merchant 1                        5812.0   \n",
       "1               acquirer 2          merchant 2                        4121.0   \n",
       "2               acquirer 3          merchant 3                        7211.0   \n",
       "3               acquirer 1          merchant 4                        5814.0   \n",
       "4               acquirer 4          merchant 1                        5812.0   \n",
       "\n",
       "  Fraud Indicator (Yes/No)  \n",
       "0                       No  \n",
       "1                       No  \n",
       "2                       No  \n",
       "3                       No  \n",
       "4                       No  "
      ]
     },
     "execution_count": 2,
     "metadata": {},
     "output_type": "execute_result"
    }
   ],
   "source": [
    "data_path = \"../data/BOLT Data Set.xlsx\"\n",
    "og_df = pd.read_excel(data_path)\n",
    "og_df.head()"
   ]
  },
  {
   "cell_type": "code",
   "execution_count": 3,
   "id": "37ce93d4-0720-41bb-aea5-dd2a18052076",
   "metadata": {},
   "outputs": [],
   "source": [
    "df = og_df.copy()"
   ]
  },
  {
   "cell_type": "code",
   "execution_count": 4,
   "id": "30838de6-2f63-47b4-8a59-abc05f5d070b",
   "metadata": {},
   "outputs": [],
   "source": [
    "from datetime import datetime\n",
    "def fix_time(time_str):\n",
    "    og_time = time_str\n",
    "    if time_str == \"na:n:\":\n",
    "        return np.nan\n",
    "    try:\n",
    "        time_str = time_str.replace(\":\", \"\").replace(\".0\", \"\")\n",
    "        time_str = '{:0>{}}'.format(time_str, 6)\n",
    "        time_fixed = datetime.strptime(time_str, '%H%M%S')#.strftime('%H:%M:%S')\n",
    "        return time_fixed\n",
    "    except Exception as e:\n",
    "        print(e)\n",
    "        print(og_time)\n",
    "        return np.nan\n",
    "\n",
    "df['Transaction Time'] = df['Transaction Time'].apply(fix_time)\n"
   ]
  },
  {
   "cell_type": "code",
   "execution_count": 10,
   "id": "0138ed24-756d-4e39-8409-52139ef0f11e",
   "metadata": {},
   "outputs": [],
   "source": [
    "fraud = df[df['Fraud Indicator (Yes/No)'] == 'Yes']\n",
    "fraud_df = df[df['Card Identifier'].isin(fraud['Card Identifier'])]"
   ]
  },
  {
   "cell_type": "code",
   "execution_count": 26,
   "id": "98e03468-d6d6-45fd-9cf8-40108c5974d1",
   "metadata": {},
   "outputs": [
    {
     "name": "stdout",
     "output_type": "stream",
     "text": [
      "<class 'pandas.core.frame.DataFrame'>\n",
      "Index: 265 entries, 41 to 99471\n",
      "Data columns (total 14 columns):\n",
      " #   Column                             Non-Null Count  Dtype         \n",
      "---  ------                             --------------  -----         \n",
      " 0   Card Identifier                    265 non-null    object        \n",
      " 1   Transaction Date                   265 non-null    datetime64[ns]\n",
      " 2   Transaction Time                   264 non-null    datetime64[ns]\n",
      " 3   Risk Assessment                    265 non-null    float64       \n",
      " 4   Payment Method                     265 non-null    object        \n",
      " 5   Transaction Value                  265 non-null    float64       \n",
      " 6   Merchant Location                  265 non-null    object        \n",
      " 7   Card Present Status                265 non-null    object        \n",
      " 8   Chip Usage                         265 non-null    object        \n",
      " 9   Cross-border Transaction (Yes/No)  265 non-null    object        \n",
      " 10  Acquiring Institution ID           265 non-null    object        \n",
      " 11  Merchant Identifier                265 non-null    object        \n",
      " 12  Merchant Category Code (MCC)       265 non-null    float64       \n",
      " 13  Fraud Indicator (Yes/No)           265 non-null    object        \n",
      "dtypes: datetime64[ns](2), float64(3), object(9)\n",
      "memory usage: 31.1+ KB\n"
     ]
    }
   ],
   "source": [
    "fraud.info()"
   ]
  },
  {
   "cell_type": "code",
   "execution_count": 6,
   "id": "f7904612-3d9c-48bb-8e66-a2ad476d949d",
   "metadata": {},
   "outputs": [
    {
     "name": "stdout",
     "output_type": "stream",
     "text": [
      "<class 'pandas.core.frame.DataFrame'>\n",
      "RangeIndex: 100000 entries, 0 to 99999\n",
      "Data columns (total 14 columns):\n",
      " #   Column                             Non-Null Count   Dtype         \n",
      "---  ------                             --------------   -----         \n",
      " 0   Card Identifier                    100000 non-null  object        \n",
      " 1   Transaction Date                   100000 non-null  datetime64[ns]\n",
      " 2   Transaction Time                   97963 non-null   datetime64[ns]\n",
      " 3   Risk Assessment                    99028 non-null   float64       \n",
      " 4   Payment Method                     100000 non-null  object        \n",
      " 5   Transaction Value                  100000 non-null  float64       \n",
      " 6   Merchant Location                  100000 non-null  object        \n",
      " 7   Card Present Status                100000 non-null  object        \n",
      " 8   Chip Usage                         100000 non-null  object        \n",
      " 9   Cross-border Transaction (Yes/No)  100000 non-null  object        \n",
      " 10  Acquiring Institution ID           100000 non-null  object        \n",
      " 11  Merchant Identifier                100000 non-null  object        \n",
      " 12  Merchant Category Code (MCC)       99997 non-null   float64       \n",
      " 13  Fraud Indicator (Yes/No)           100000 non-null  object        \n",
      "dtypes: datetime64[ns](2), float64(3), object(9)\n",
      "memory usage: 10.7+ MB\n"
     ]
    }
   ],
   "source": [
    "df.info()"
   ]
  },
  {
   "cell_type": "code",
   "execution_count": 5,
   "id": "f369e9e0-f5f0-44fb-973a-2baee71044a9",
   "metadata": {},
   "outputs": [
    {
     "data": {
      "text/html": [
       "<div>\n",
       "<style scoped>\n",
       "    .dataframe tbody tr th:only-of-type {\n",
       "        vertical-align: middle;\n",
       "    }\n",
       "\n",
       "    .dataframe tbody tr th {\n",
       "        vertical-align: top;\n",
       "    }\n",
       "\n",
       "    .dataframe thead th {\n",
       "        text-align: right;\n",
       "    }\n",
       "</style>\n",
       "<table border=\"1\" class=\"dataframe\">\n",
       "  <thead>\n",
       "    <tr style=\"text-align: right;\">\n",
       "      <th></th>\n",
       "      <th>Card Identifier</th>\n",
       "      <th>Transaction Date</th>\n",
       "      <th>Transaction Time</th>\n",
       "      <th>Risk Assessment</th>\n",
       "      <th>Payment Method</th>\n",
       "      <th>Transaction Value</th>\n",
       "      <th>Merchant Location</th>\n",
       "      <th>Card Present Status</th>\n",
       "      <th>Chip Usage</th>\n",
       "      <th>Cross-border Transaction (Yes/No)</th>\n",
       "      <th>Acquiring Institution ID</th>\n",
       "      <th>Merchant Identifier</th>\n",
       "      <th>Merchant Category Code (MCC)</th>\n",
       "      <th>Fraud Indicator (Yes/No)</th>\n",
       "    </tr>\n",
       "  </thead>\n",
       "  <tbody>\n",
       "    <tr>\n",
       "      <th>0</th>\n",
       "      <td>card 1</td>\n",
       "      <td>2023-05-11</td>\n",
       "      <td>1900-01-01 16:22:14</td>\n",
       "      <td>362.0</td>\n",
       "      <td>Paypass - Contactless</td>\n",
       "      <td>13.98</td>\n",
       "      <td>USA</td>\n",
       "      <td>CP</td>\n",
       "      <td>Yes</td>\n",
       "      <td>No</td>\n",
       "      <td>acquirer 1</td>\n",
       "      <td>merchant 1</td>\n",
       "      <td>5812.0</td>\n",
       "      <td>No</td>\n",
       "    </tr>\n",
       "    <tr>\n",
       "      <th>1</th>\n",
       "      <td>card 2</td>\n",
       "      <td>2023-06-05</td>\n",
       "      <td>1900-01-01 15:16:35</td>\n",
       "      <td>602.0</td>\n",
       "      <td>Online</td>\n",
       "      <td>24.64</td>\n",
       "      <td>USA</td>\n",
       "      <td>CNP</td>\n",
       "      <td>No</td>\n",
       "      <td>No</td>\n",
       "      <td>acquirer 2</td>\n",
       "      <td>merchant 2</td>\n",
       "      <td>4121.0</td>\n",
       "      <td>No</td>\n",
       "    </tr>\n",
       "    <tr>\n",
       "      <th>2</th>\n",
       "      <td>card 3</td>\n",
       "      <td>2023-06-05</td>\n",
       "      <td>1900-01-01 11:57:40</td>\n",
       "      <td>482.0</td>\n",
       "      <td>Unknown</td>\n",
       "      <td>15.00</td>\n",
       "      <td>USA</td>\n",
       "      <td>CNP</td>\n",
       "      <td>No</td>\n",
       "      <td>No</td>\n",
       "      <td>acquirer 3</td>\n",
       "      <td>merchant 3</td>\n",
       "      <td>7211.0</td>\n",
       "      <td>No</td>\n",
       "    </tr>\n",
       "    <tr>\n",
       "      <th>3</th>\n",
       "      <td>card 4</td>\n",
       "      <td>2023-07-20</td>\n",
       "      <td>1900-01-01 18:26:30</td>\n",
       "      <td>947.0</td>\n",
       "      <td>Online</td>\n",
       "      <td>30.56</td>\n",
       "      <td>USA</td>\n",
       "      <td>CNP</td>\n",
       "      <td>No</td>\n",
       "      <td>No</td>\n",
       "      <td>acquirer 1</td>\n",
       "      <td>merchant 4</td>\n",
       "      <td>5814.0</td>\n",
       "      <td>No</td>\n",
       "    </tr>\n",
       "    <tr>\n",
       "      <th>4</th>\n",
       "      <td>card 5</td>\n",
       "      <td>2023-03-03</td>\n",
       "      <td>1900-01-01 19:03:11</td>\n",
       "      <td>1382.0</td>\n",
       "      <td>Magnetic Stripe</td>\n",
       "      <td>50.85</td>\n",
       "      <td>USA</td>\n",
       "      <td>CP</td>\n",
       "      <td>No</td>\n",
       "      <td>No</td>\n",
       "      <td>acquirer 4</td>\n",
       "      <td>merchant 1</td>\n",
       "      <td>5812.0</td>\n",
       "      <td>No</td>\n",
       "    </tr>\n",
       "  </tbody>\n",
       "</table>\n",
       "</div>"
      ],
      "text/plain": [
       "  Card Identifier Transaction Date    Transaction Time  Risk Assessment  \\\n",
       "0          card 1       2023-05-11 1900-01-01 16:22:14            362.0   \n",
       "1          card 2       2023-06-05 1900-01-01 15:16:35            602.0   \n",
       "2          card 3       2023-06-05 1900-01-01 11:57:40            482.0   \n",
       "3          card 4       2023-07-20 1900-01-01 18:26:30            947.0   \n",
       "4          card 5       2023-03-03 1900-01-01 19:03:11           1382.0   \n",
       "\n",
       "          Payment Method  Transaction Value Merchant Location  \\\n",
       "0  Paypass - Contactless              13.98               USA   \n",
       "1                 Online              24.64               USA   \n",
       "2                Unknown              15.00               USA   \n",
       "3                 Online              30.56               USA   \n",
       "4        Magnetic Stripe              50.85               USA   \n",
       "\n",
       "  Card Present Status Chip Usage Cross-border Transaction (Yes/No)  \\\n",
       "0                  CP        Yes                                No   \n",
       "1                 CNP         No                                No   \n",
       "2                 CNP         No                                No   \n",
       "3                 CNP         No                                No   \n",
       "4                  CP         No                                No   \n",
       "\n",
       "  Acquiring Institution ID Merchant Identifier  Merchant Category Code (MCC)  \\\n",
       "0               acquirer 1          merchant 1                        5812.0   \n",
       "1               acquirer 2          merchant 2                        4121.0   \n",
       "2               acquirer 3          merchant 3                        7211.0   \n",
       "3               acquirer 1          merchant 4                        5814.0   \n",
       "4               acquirer 4          merchant 1                        5812.0   \n",
       "\n",
       "  Fraud Indicator (Yes/No)  \n",
       "0                       No  \n",
       "1                       No  \n",
       "2                       No  \n",
       "3                       No  \n",
       "4                       No  "
      ]
     },
     "execution_count": 5,
     "metadata": {},
     "output_type": "execute_result"
    }
   ],
   "source": [
    "df.head()"
   ]
  },
  {
   "cell_type": "code",
   "execution_count": 16,
   "id": "31dff9c7-1171-4ce0-998f-d148cd5f5c28",
   "metadata": {},
   "outputs": [
    {
     "data": {
      "text/plain": [
       "0.023246951219512195"
      ]
     },
     "execution_count": 16,
     "metadata": {},
     "output_type": "execute_result"
    }
   ],
   "source": [
    "183 / 7872"
   ]
  },
  {
   "cell_type": "code",
   "execution_count": 15,
   "id": "f2734c05-d4ee-4d3e-b187-a6cfab5c1ce1",
   "metadata": {},
   "outputs": [
    {
     "data": {
      "text/plain": [
       "183"
      ]
     },
     "execution_count": 15,
     "metadata": {},
     "output_type": "execute_result"
    }
   ],
   "source": [
    "fraud_df['Card Identifier'].nunique()"
   ]
  },
  {
   "cell_type": "code",
   "execution_count": 11,
   "id": "5ce08a76-8601-4630-8543-64a1f2ce6b40",
   "metadata": {},
   "outputs": [
    {
     "data": {
      "text/plain": [
       "7872"
      ]
     },
     "execution_count": 11,
     "metadata": {},
     "output_type": "execute_result"
    }
   ],
   "source": [
    "df['Card Identifier'].nunique()"
   ]
  },
  {
   "cell_type": "code",
   "execution_count": 12,
   "id": "ea6d2651-5db8-4253-94a6-7fe7e07e0c14",
   "metadata": {},
   "outputs": [
    {
     "data": {
      "text/plain": [
       "2658"
      ]
     },
     "execution_count": 12,
     "metadata": {},
     "output_type": "execute_result"
    }
   ],
   "source": [
    "df['Merchant Identifier'].nunique()"
   ]
  },
  {
   "cell_type": "code",
   "execution_count": 8,
   "id": "7edf0a4e-b1e2-471d-a293-21ec54ae94a1",
   "metadata": {},
   "outputs": [
    {
     "data": {
      "text/plain": [
       "(100000, 14)"
      ]
     },
     "execution_count": 8,
     "metadata": {},
     "output_type": "execute_result"
    }
   ],
   "source": [
    "df.shape"
   ]
  },
  {
   "cell_type": "markdown",
   "id": "79392e3c-75db-41dd-8f7b-8d49445785ee",
   "metadata": {},
   "source": [
    "## Preprocessing\n",
    "- Scaling on numeric features: risk assessment, transaction value\n",
    "- One hot encoding on categorical features: payment method, merchant location, card present status, chip usage, cross-border transaction, MCC"
   ]
  },
  {
   "cell_type": "markdown",
   "id": "241a5b16-61d6-4feb-bc05-f965af3006eb",
   "metadata": {},
   "source": [
    "## Linear Regression on Risk Assessment"
   ]
  },
  {
   "cell_type": "code",
   "execution_count": 17,
   "id": "8cffc1d8-e18f-4313-849e-c8c0dc1f9cf3",
   "metadata": {},
   "outputs": [],
   "source": [
    "from sklearn.model_selection import train_test_split\n",
    "from sklearn.linear_model import LogisticRegression\n",
    "from sklearn.metrics import accuracy_score, confusion_matrix, classification_report"
   ]
  },
  {
   "cell_type": "code",
   "execution_count": 28,
   "id": "5b1946b5-705d-4172-b5a2-12f1b2155805",
   "metadata": {},
   "outputs": [],
   "source": [
    "lr_df = df.dropna(subset=['Risk Assessment'])"
   ]
  },
  {
   "cell_type": "code",
   "execution_count": 29,
   "id": "7985c832-84f0-46a8-8c33-a7876e292efb",
   "metadata": {},
   "outputs": [
    {
     "data": {
      "text/plain": [
       "(99028, 14)"
      ]
     },
     "execution_count": 29,
     "metadata": {},
     "output_type": "execute_result"
    }
   ],
   "source": [
    "lr_df.shape"
   ]
  },
  {
   "cell_type": "code",
   "execution_count": 21,
   "id": "6f0bac3e-1898-45d1-ba11-1a0b83ecc51d",
   "metadata": {},
   "outputs": [],
   "source": [
    "# Separate features and target variable\n",
    "X = df[['Risk Assessment']]  # Feature: Risk Assessment\n",
    "y = df['Fraud Indicator (Yes/No)'].map({'Yes': 1, 'No': 0})    # Target variable to predict"
   ]
  },
  {
   "cell_type": "code",
   "execution_count": 30,
   "id": "783fbbb0-5659-466b-aa57-0950419f1f14",
   "metadata": {},
   "outputs": [
    {
     "name": "stdout",
     "output_type": "stream",
     "text": [
      "Accuracy: 0.9971725739674846\n",
      "Confusion Matrix:\n",
      " [[19750     0]\n",
      " [   56     0]]\n",
      "Classification Report:\n",
      "               precision    recall  f1-score   support\n",
      "\n",
      "           0       1.00      1.00      1.00     19750\n",
      "           1       0.00      0.00      0.00        56\n",
      "\n",
      "    accuracy                           1.00     19806\n",
      "   macro avg       0.50      0.50      0.50     19806\n",
      "weighted avg       0.99      1.00      1.00     19806\n",
      "\n"
     ]
    },
    {
     "name": "stderr",
     "output_type": "stream",
     "text": [
      "C:\\Users\\simon\\anaconda3\\envs\\cpsc330\\lib\\site-packages\\sklearn\\metrics\\_classification.py:1469: UndefinedMetricWarning: Precision and F-score are ill-defined and being set to 0.0 in labels with no predicted samples. Use `zero_division` parameter to control this behavior.\n",
      "  _warn_prf(average, modifier, msg_start, len(result))\n",
      "C:\\Users\\simon\\anaconda3\\envs\\cpsc330\\lib\\site-packages\\sklearn\\metrics\\_classification.py:1469: UndefinedMetricWarning: Precision and F-score are ill-defined and being set to 0.0 in labels with no predicted samples. Use `zero_division` parameter to control this behavior.\n",
      "  _warn_prf(average, modifier, msg_start, len(result))\n",
      "C:\\Users\\simon\\anaconda3\\envs\\cpsc330\\lib\\site-packages\\sklearn\\metrics\\_classification.py:1469: UndefinedMetricWarning: Precision and F-score are ill-defined and being set to 0.0 in labels with no predicted samples. Use `zero_division` parameter to control this behavior.\n",
      "  _warn_prf(average, modifier, msg_start, len(result))\n"
     ]
    }
   ],
   "source": [
    "import pandas as pd\n",
    "from sklearn.model_selection import train_test_split\n",
    "from sklearn.linear_model import LogisticRegression\n",
    "from sklearn.metrics import accuracy_score, confusion_matrix, classification_report\n",
    "\n",
    "# Separate features and target variable\n",
    "X = lr_df[['Risk Assessment']]  # Feature: Risk Assessment\n",
    "y = lr_df['Fraud Indicator (Yes/No)'].map({'Yes': 1, 'No': 0})    # Target variable to predict\n",
    "\n",
    "# Split data into training and testing sets\n",
    "X_train, X_test, y_train, y_test = train_test_split(X, y, test_size=0.2, random_state=42)\n",
    "\n",
    "# Initialize logistic regression model\n",
    "model = LogisticRegression()\n",
    "\n",
    "# Train the model\n",
    "model.fit(X_train, y_train)\n",
    "\n",
    "# Make predictions on the test set\n",
    "y_pred = model.predict(X_test)\n",
    "\n",
    "# Evaluate the model\n",
    "accuracy = accuracy_score(y_test, y_pred)\n",
    "conf_matrix = confusion_matrix(y_test, y_pred)\n",
    "class_report = classification_report(y_test, y_pred)\n",
    "\n",
    "print(\"Accuracy:\", accuracy)\n",
    "print(\"Confusion Matrix:\\n\", conf_matrix)\n",
    "print(\"Classification Report:\\n\", class_report)\n"
   ]
  }
 ],
 "metadata": {
  "kernelspec": {
   "display_name": "Python 3 (ipykernel)",
   "language": "python",
   "name": "python3"
  },
  "language_info": {
   "codemirror_mode": {
    "name": "ipython",
    "version": 3
   },
   "file_extension": ".py",
   "mimetype": "text/x-python",
   "name": "python",
   "nbconvert_exporter": "python",
   "pygments_lexer": "ipython3",
   "version": "3.10.0"
  }
 },
 "nbformat": 4,
 "nbformat_minor": 5
}
