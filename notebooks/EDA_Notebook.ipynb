{
 "cells": [
  {
   "cell_type": "markdown",
   "id": "252cc788-05d2-409c-835b-963bd2a3b82b",
   "metadata": {},
   "source": [
    "# Eploratory Data Analysis"
   ]
  },
  {
   "cell_type": "code",
   "execution_count": 1,
   "id": "ec034e55-3b08-4642-ab51-6261b58dfd9c",
   "metadata": {},
   "outputs": [],
   "source": [
    "import numpy as np\n",
    "import pandas as pd\n",
    "import seaborn as sns\n",
    "import matplotlib.pyplot as plt\n",
    "sns.set()"
   ]
  },
  {
   "cell_type": "code",
   "execution_count": 4,
   "id": "f238fc35-da6b-4b80-a28c-e04df097ce02",
   "metadata": {},
   "outputs": [],
   "source": [
    "data_path = \"../data/BOLT Data Set.xlsx\""
   ]
  },
  {
   "cell_type": "code",
   "execution_count": 5,
   "id": "82d61aaf-4fa2-44eb-ac61-cb97fc0959fe",
   "metadata": {},
   "outputs": [
    {
     "data": {
      "text/html": [
       "<div>\n",
       "<style scoped>\n",
       "    .dataframe tbody tr th:only-of-type {\n",
       "        vertical-align: middle;\n",
       "    }\n",
       "\n",
       "    .dataframe tbody tr th {\n",
       "        vertical-align: top;\n",
       "    }\n",
       "\n",
       "    .dataframe thead th {\n",
       "        text-align: right;\n",
       "    }\n",
       "</style>\n",
       "<table border=\"1\" class=\"dataframe\">\n",
       "  <thead>\n",
       "    <tr style=\"text-align: right;\">\n",
       "      <th></th>\n",
       "      <th>Card Identifier</th>\n",
       "      <th>Transaction Date</th>\n",
       "      <th>Transaction Time</th>\n",
       "      <th>Risk Assessment</th>\n",
       "      <th>Payment Method</th>\n",
       "      <th>Transaction Value</th>\n",
       "      <th>Merchant Location</th>\n",
       "      <th>Card Present Status</th>\n",
       "      <th>Chip Usage</th>\n",
       "      <th>Cross-border Transaction (Yes/No)</th>\n",
       "      <th>Acquiring Institution ID</th>\n",
       "      <th>Merchant Identifier</th>\n",
       "      <th>Merchant Category Code (MCC)</th>\n",
       "      <th>Fraud Indicator (Yes/No)</th>\n",
       "    </tr>\n",
       "  </thead>\n",
       "  <tbody>\n",
       "    <tr>\n",
       "      <th>0</th>\n",
       "      <td>card 1</td>\n",
       "      <td>2023-05-11</td>\n",
       "      <td>16:22:14.0</td>\n",
       "      <td>362.0</td>\n",
       "      <td>Paypass - Contactless</td>\n",
       "      <td>13.98</td>\n",
       "      <td>USA</td>\n",
       "      <td>CP</td>\n",
       "      <td>Yes</td>\n",
       "      <td>No</td>\n",
       "      <td>acquirer 1</td>\n",
       "      <td>merchant 1</td>\n",
       "      <td>5812.0</td>\n",
       "      <td>No</td>\n",
       "    </tr>\n",
       "    <tr>\n",
       "      <th>1</th>\n",
       "      <td>card 2</td>\n",
       "      <td>2023-06-05</td>\n",
       "      <td>15:16:35.0</td>\n",
       "      <td>602.0</td>\n",
       "      <td>Online</td>\n",
       "      <td>24.64</td>\n",
       "      <td>USA</td>\n",
       "      <td>CNP</td>\n",
       "      <td>No</td>\n",
       "      <td>No</td>\n",
       "      <td>acquirer 2</td>\n",
       "      <td>merchant 2</td>\n",
       "      <td>4121.0</td>\n",
       "      <td>No</td>\n",
       "    </tr>\n",
       "    <tr>\n",
       "      <th>2</th>\n",
       "      <td>card 3</td>\n",
       "      <td>2023-06-05</td>\n",
       "      <td>11:57:40.0</td>\n",
       "      <td>482.0</td>\n",
       "      <td>Unknown</td>\n",
       "      <td>15.00</td>\n",
       "      <td>USA</td>\n",
       "      <td>CNP</td>\n",
       "      <td>No</td>\n",
       "      <td>No</td>\n",
       "      <td>acquirer 3</td>\n",
       "      <td>merchant 3</td>\n",
       "      <td>7211.0</td>\n",
       "      <td>No</td>\n",
       "    </tr>\n",
       "    <tr>\n",
       "      <th>3</th>\n",
       "      <td>card 4</td>\n",
       "      <td>2023-07-20</td>\n",
       "      <td>18:26:30.0</td>\n",
       "      <td>947.0</td>\n",
       "      <td>Online</td>\n",
       "      <td>30.56</td>\n",
       "      <td>USA</td>\n",
       "      <td>CNP</td>\n",
       "      <td>No</td>\n",
       "      <td>No</td>\n",
       "      <td>acquirer 1</td>\n",
       "      <td>merchant 4</td>\n",
       "      <td>5814.0</td>\n",
       "      <td>No</td>\n",
       "    </tr>\n",
       "    <tr>\n",
       "      <th>4</th>\n",
       "      <td>card 5</td>\n",
       "      <td>2023-03-03</td>\n",
       "      <td>19:03:11.0</td>\n",
       "      <td>1382.0</td>\n",
       "      <td>Magnetic Stripe</td>\n",
       "      <td>50.85</td>\n",
       "      <td>USA</td>\n",
       "      <td>CP</td>\n",
       "      <td>No</td>\n",
       "      <td>No</td>\n",
       "      <td>acquirer 4</td>\n",
       "      <td>merchant 1</td>\n",
       "      <td>5812.0</td>\n",
       "      <td>No</td>\n",
       "    </tr>\n",
       "  </tbody>\n",
       "</table>\n",
       "</div>"
      ],
      "text/plain": [
       "  Card Identifier Transaction Date Transaction Time  Risk Assessment  \\\n",
       "0          card 1       2023-05-11       16:22:14.0            362.0   \n",
       "1          card 2       2023-06-05       15:16:35.0            602.0   \n",
       "2          card 3       2023-06-05       11:57:40.0            482.0   \n",
       "3          card 4       2023-07-20       18:26:30.0            947.0   \n",
       "4          card 5       2023-03-03       19:03:11.0           1382.0   \n",
       "\n",
       "          Payment Method  Transaction Value Merchant Location  \\\n",
       "0  Paypass - Contactless              13.98               USA   \n",
       "1                 Online              24.64               USA   \n",
       "2                Unknown              15.00               USA   \n",
       "3                 Online              30.56               USA   \n",
       "4        Magnetic Stripe              50.85               USA   \n",
       "\n",
       "  Card Present Status Chip Usage Cross-border Transaction (Yes/No)  \\\n",
       "0                  CP        Yes                                No   \n",
       "1                 CNP         No                                No   \n",
       "2                 CNP         No                                No   \n",
       "3                 CNP         No                                No   \n",
       "4                  CP         No                                No   \n",
       "\n",
       "  Acquiring Institution ID Merchant Identifier  Merchant Category Code (MCC)  \\\n",
       "0               acquirer 1          merchant 1                        5812.0   \n",
       "1               acquirer 2          merchant 2                        4121.0   \n",
       "2               acquirer 3          merchant 3                        7211.0   \n",
       "3               acquirer 1          merchant 4                        5814.0   \n",
       "4               acquirer 4          merchant 1                        5812.0   \n",
       "\n",
       "  Fraud Indicator (Yes/No)  \n",
       "0                       No  \n",
       "1                       No  \n",
       "2                       No  \n",
       "3                       No  \n",
       "4                       No  "
      ]
     },
     "execution_count": 5,
     "metadata": {},
     "output_type": "execute_result"
    }
   ],
   "source": [
    "og_df = pd.read_excel(data_path)\n",
    "og_df.head()"
   ]
  },
  {
   "cell_type": "code",
   "execution_count": 6,
   "id": "fa6e2947-3289-448a-b6b0-90dbf9249202",
   "metadata": {},
   "outputs": [],
   "source": [
    "df = og_df.copy()"
   ]
  },
  {
   "cell_type": "code",
   "execution_count": 117,
   "id": "3ddb459d-cf91-4b65-bfd9-da61c8c17d0a",
   "metadata": {},
   "outputs": [],
   "source": [
    "df['transaction_time'] = pd.to_datetime(df['transaction_time'], format='%H:%M:%S', errors='coerce').dt.time"
   ]
  },
  {
   "cell_type": "code",
   "execution_count": 7,
   "id": "dc2d82b1-8ab7-4fe1-850d-376160123882",
   "metadata": {},
   "outputs": [
    {
     "ename": "AttributeError",
     "evalue": "'DataFrame' object has no attribute 'fraud_indicator'",
     "output_type": "error",
     "traceback": [
      "\u001b[1;31m---------------------------------------------------------------------------\u001b[0m",
      "\u001b[1;31mAttributeError\u001b[0m                            Traceback (most recent call last)",
      "\u001b[1;32m~\\AppData\\Local\\Temp\\ipykernel_2456\\1320453966.py\u001b[0m in \u001b[0;36m?\u001b[1;34m()\u001b[0m\n\u001b[1;32m----> 1\u001b[1;33m \u001b[0mfraud_df\u001b[0m \u001b[1;33m=\u001b[0m \u001b[0mdf\u001b[0m\u001b[1;33m[\u001b[0m\u001b[0mdf\u001b[0m\u001b[1;33m.\u001b[0m\u001b[0mfraud_indicator\u001b[0m \u001b[1;33m==\u001b[0m \u001b[1;34m\"Yes\"\u001b[0m\u001b[1;33m]\u001b[0m\u001b[1;33m\u001b[0m\u001b[1;33m\u001b[0m\u001b[0m\n\u001b[0m",
      "\u001b[1;32mc:\\Users\\simon\\anaconda3\\envs\\cpsc330\\lib\\site-packages\\pandas\\core\\generic.py\u001b[0m in \u001b[0;36m?\u001b[1;34m(self, name)\u001b[0m\n\u001b[0;32m   6198\u001b[0m             \u001b[1;32mand\u001b[0m \u001b[0mname\u001b[0m \u001b[1;32mnot\u001b[0m \u001b[1;32min\u001b[0m \u001b[0mself\u001b[0m\u001b[1;33m.\u001b[0m\u001b[0m_accessors\u001b[0m\u001b[1;33m\u001b[0m\u001b[1;33m\u001b[0m\u001b[0m\n\u001b[0;32m   6199\u001b[0m             \u001b[1;32mand\u001b[0m \u001b[0mself\u001b[0m\u001b[1;33m.\u001b[0m\u001b[0m_info_axis\u001b[0m\u001b[1;33m.\u001b[0m\u001b[0m_can_hold_identifiers_and_holds_name\u001b[0m\u001b[1;33m(\u001b[0m\u001b[0mname\u001b[0m\u001b[1;33m)\u001b[0m\u001b[1;33m\u001b[0m\u001b[1;33m\u001b[0m\u001b[0m\n\u001b[0;32m   6200\u001b[0m         ):\n\u001b[0;32m   6201\u001b[0m             \u001b[1;32mreturn\u001b[0m \u001b[0mself\u001b[0m\u001b[1;33m[\u001b[0m\u001b[0mname\u001b[0m\u001b[1;33m]\u001b[0m\u001b[1;33m\u001b[0m\u001b[1;33m\u001b[0m\u001b[0m\n\u001b[1;32m-> 6202\u001b[1;33m         \u001b[1;32mreturn\u001b[0m \u001b[0mobject\u001b[0m\u001b[1;33m.\u001b[0m\u001b[0m__getattribute__\u001b[0m\u001b[1;33m(\u001b[0m\u001b[0mself\u001b[0m\u001b[1;33m,\u001b[0m \u001b[0mname\u001b[0m\u001b[1;33m)\u001b[0m\u001b[1;33m\u001b[0m\u001b[1;33m\u001b[0m\u001b[0m\n\u001b[0m",
      "\u001b[1;31mAttributeError\u001b[0m: 'DataFrame' object has no attribute 'fraud_indicator'"
     ]
    }
   ],
   "source": [
    "fraud_df = df[df.fraud_indicator == \"Yes\"]"
   ]
  },
  {
   "cell_type": "code",
   "execution_count": 8,
   "id": "4c1ad003-3398-402d-a1c6-9007801fa1f8",
   "metadata": {},
   "outputs": [
    {
     "data": {
      "text/plain": [
       "Card Identifier                        0\n",
       "Transaction Date                       0\n",
       "Transaction Time                       0\n",
       "Risk Assessment                      972\n",
       "Payment Method                         0\n",
       "Transaction Value                      0\n",
       "Merchant Location                      0\n",
       "Card Present Status                    0\n",
       "Chip Usage                             0\n",
       "Cross-border Transaction (Yes/No)      0\n",
       "Acquiring Institution ID               0\n",
       "Merchant Identifier                    0\n",
       "Merchant Category Code (MCC)           3\n",
       "Fraud Indicator (Yes/No)               0\n",
       "dtype: int64"
      ]
     },
     "execution_count": 8,
     "metadata": {},
     "output_type": "execute_result"
    }
   ],
   "source": [
    "df.isnull().sum()"
   ]
  },
  {
   "cell_type": "code",
   "execution_count": 120,
   "id": "84ffd63f-e520-4a89-bb06-8cc452dedd71",
   "metadata": {},
   "outputs": [
    {
     "data": {
      "text/plain": [
       "card_id                      0\n",
       "transaction_date             0\n",
       "transaction_time            80\n",
       "risk_assessment              0\n",
       "payment_method               0\n",
       "transaction_value            0\n",
       "merchant_location            0\n",
       "card_present_status          0\n",
       "chip_usage                   0\n",
       "cross_border_transaction     0\n",
       "acquirer_id                  0\n",
       "merchant_id                  0\n",
       "merchant_category_code       0\n",
       "fraud_indicator              0\n",
       "dtype: int64"
      ]
     },
     "execution_count": 120,
     "metadata": {},
     "output_type": "execute_result"
    }
   ],
   "source": [
    "fraud_df.isnull().sum()"
   ]
  },
  {
   "cell_type": "code",
   "execution_count": 121,
   "id": "b041f7cc-6df0-4311-b4b5-480e66bf03c6",
   "metadata": {},
   "outputs": [
    {
     "name": "stdout",
     "output_type": "stream",
     "text": [
      "<class 'pandas.core.frame.DataFrame'>\n",
      "RangeIndex: 100000 entries, 0 to 99999\n",
      "Data columns (total 14 columns):\n",
      " #   Column                    Non-Null Count   Dtype         \n",
      "---  ------                    --------------   -----         \n",
      " 0   card_id                   100000 non-null  object        \n",
      " 1   transaction_date          100000 non-null  datetime64[ns]\n",
      " 2   transaction_time          77538 non-null   object        \n",
      " 3   risk_assessment           99028 non-null   float64       \n",
      " 4   payment_method            100000 non-null  object        \n",
      " 5   transaction_value         100000 non-null  float64       \n",
      " 6   merchant_location         100000 non-null  object        \n",
      " 7   card_present_status       100000 non-null  object        \n",
      " 8   chip_usage                100000 non-null  object        \n",
      " 9   cross_border_transaction  100000 non-null  object        \n",
      " 10  acquirer_id               100000 non-null  object        \n",
      " 11  merchant_id               100000 non-null  object        \n",
      " 12  merchant_category_code    99997 non-null   float64       \n",
      " 13  fraud_indicator           100000 non-null  object        \n",
      "dtypes: datetime64[ns](1), float64(3), object(10)\n",
      "memory usage: 10.7+ MB\n"
     ]
    }
   ],
   "source": [
    "df.info()"
   ]
  },
  {
   "cell_type": "code",
   "execution_count": 126,
   "id": "6aac6761-8e7b-4a22-b970-2647adc734cd",
   "metadata": {},
   "outputs": [],
   "source": [
    "df['transaction_time_hour'] = df['transaction_time'].apply(lambda x: x.hour)"
   ]
  },
  {
   "cell_type": "code",
   "execution_count": 127,
   "id": "8b0487db-0f2a-41f3-a131-bb0086085fb1",
   "metadata": {},
   "outputs": [
    {
     "data": {
      "text/html": [
       "<div>\n",
       "<style scoped>\n",
       "    .dataframe tbody tr th:only-of-type {\n",
       "        vertical-align: middle;\n",
       "    }\n",
       "\n",
       "    .dataframe tbody tr th {\n",
       "        vertical-align: top;\n",
       "    }\n",
       "\n",
       "    .dataframe thead th {\n",
       "        text-align: right;\n",
       "    }\n",
       "</style>\n",
       "<table border=\"1\" class=\"dataframe\">\n",
       "  <thead>\n",
       "    <tr style=\"text-align: right;\">\n",
       "      <th></th>\n",
       "      <th>card_id</th>\n",
       "      <th>transaction_date</th>\n",
       "      <th>transaction_time</th>\n",
       "      <th>risk_assessment</th>\n",
       "      <th>payment_method</th>\n",
       "      <th>transaction_value</th>\n",
       "      <th>merchant_location</th>\n",
       "      <th>card_present_status</th>\n",
       "      <th>chip_usage</th>\n",
       "      <th>cross_border_transaction</th>\n",
       "      <th>acquirer_id</th>\n",
       "      <th>merchant_id</th>\n",
       "      <th>merchant_category_code</th>\n",
       "      <th>fraud_indicator</th>\n",
       "      <th>transaction_time_hour</th>\n",
       "    </tr>\n",
       "  </thead>\n",
       "  <tbody>\n",
       "    <tr>\n",
       "      <th>0</th>\n",
       "      <td>card 1</td>\n",
       "      <td>2023-05-11</td>\n",
       "      <td>16:22:14</td>\n",
       "      <td>362.0</td>\n",
       "      <td>Paypass - Contactless</td>\n",
       "      <td>13.98</td>\n",
       "      <td>USA</td>\n",
       "      <td>CP</td>\n",
       "      <td>Yes</td>\n",
       "      <td>No</td>\n",
       "      <td>acquirer 1</td>\n",
       "      <td>merchant 1</td>\n",
       "      <td>5812.0</td>\n",
       "      <td>No</td>\n",
       "      <td>16.0</td>\n",
       "    </tr>\n",
       "    <tr>\n",
       "      <th>1</th>\n",
       "      <td>card 2</td>\n",
       "      <td>2023-06-05</td>\n",
       "      <td>15:16:35</td>\n",
       "      <td>602.0</td>\n",
       "      <td>Online</td>\n",
       "      <td>24.64</td>\n",
       "      <td>USA</td>\n",
       "      <td>CNP</td>\n",
       "      <td>No</td>\n",
       "      <td>No</td>\n",
       "      <td>acquirer 2</td>\n",
       "      <td>merchant 2</td>\n",
       "      <td>4121.0</td>\n",
       "      <td>No</td>\n",
       "      <td>15.0</td>\n",
       "    </tr>\n",
       "    <tr>\n",
       "      <th>2</th>\n",
       "      <td>card 3</td>\n",
       "      <td>2023-06-05</td>\n",
       "      <td>11:57:40</td>\n",
       "      <td>482.0</td>\n",
       "      <td>Unknown</td>\n",
       "      <td>15.00</td>\n",
       "      <td>USA</td>\n",
       "      <td>CNP</td>\n",
       "      <td>No</td>\n",
       "      <td>No</td>\n",
       "      <td>acquirer 3</td>\n",
       "      <td>merchant 3</td>\n",
       "      <td>7211.0</td>\n",
       "      <td>No</td>\n",
       "      <td>11.0</td>\n",
       "    </tr>\n",
       "    <tr>\n",
       "      <th>3</th>\n",
       "      <td>card 4</td>\n",
       "      <td>2023-07-20</td>\n",
       "      <td>18:26:30</td>\n",
       "      <td>947.0</td>\n",
       "      <td>Online</td>\n",
       "      <td>30.56</td>\n",
       "      <td>USA</td>\n",
       "      <td>CNP</td>\n",
       "      <td>No</td>\n",
       "      <td>No</td>\n",
       "      <td>acquirer 1</td>\n",
       "      <td>merchant 4</td>\n",
       "      <td>5814.0</td>\n",
       "      <td>No</td>\n",
       "      <td>18.0</td>\n",
       "    </tr>\n",
       "    <tr>\n",
       "      <th>4</th>\n",
       "      <td>card 5</td>\n",
       "      <td>2023-03-03</td>\n",
       "      <td>19:03:11</td>\n",
       "      <td>1382.0</td>\n",
       "      <td>Magnetic Stripe</td>\n",
       "      <td>50.85</td>\n",
       "      <td>USA</td>\n",
       "      <td>CP</td>\n",
       "      <td>No</td>\n",
       "      <td>No</td>\n",
       "      <td>acquirer 4</td>\n",
       "      <td>merchant 1</td>\n",
       "      <td>5812.0</td>\n",
       "      <td>No</td>\n",
       "      <td>19.0</td>\n",
       "    </tr>\n",
       "  </tbody>\n",
       "</table>\n",
       "</div>"
      ],
      "text/plain": [
       "  card_id transaction_date transaction_time  risk_assessment  \\\n",
       "0  card 1       2023-05-11         16:22:14            362.0   \n",
       "1  card 2       2023-06-05         15:16:35            602.0   \n",
       "2  card 3       2023-06-05         11:57:40            482.0   \n",
       "3  card 4       2023-07-20         18:26:30            947.0   \n",
       "4  card 5       2023-03-03         19:03:11           1382.0   \n",
       "\n",
       "          payment_method  transaction_value merchant_location  \\\n",
       "0  Paypass - Contactless              13.98               USA   \n",
       "1                 Online              24.64               USA   \n",
       "2                Unknown              15.00               USA   \n",
       "3                 Online              30.56               USA   \n",
       "4        Magnetic Stripe              50.85               USA   \n",
       "\n",
       "  card_present_status chip_usage cross_border_transaction acquirer_id  \\\n",
       "0                  CP        Yes                       No  acquirer 1   \n",
       "1                 CNP         No                       No  acquirer 2   \n",
       "2                 CNP         No                       No  acquirer 3   \n",
       "3                 CNP         No                       No  acquirer 1   \n",
       "4                  CP         No                       No  acquirer 4   \n",
       "\n",
       "  merchant_id  merchant_category_code fraud_indicator  transaction_time_hour  \n",
       "0  merchant 1                  5812.0              No                   16.0  \n",
       "1  merchant 2                  4121.0              No                   15.0  \n",
       "2  merchant 3                  7211.0              No                   11.0  \n",
       "3  merchant 4                  5814.0              No                   18.0  \n",
       "4  merchant 1                  5812.0              No                   19.0  "
      ]
     },
     "execution_count": 127,
     "metadata": {},
     "output_type": "execute_result"
    }
   ],
   "source": [
    "df.head()"
   ]
  },
  {
   "cell_type": "code",
   "execution_count": null,
   "id": "681dcca1-e82f-4688-b7c4-eda5c329d580",
   "metadata": {},
   "outputs": [],
   "source": []
  },
  {
   "cell_type": "code",
   "execution_count": 137,
   "id": "4a06198a-37b6-4208-ac25-d21a01d9689a",
   "metadata": {},
   "outputs": [
    {
     "data": {
      "image/png": "[encoded data removed]",
      "text/plain": [
       "<Figure size 1000x600 with 1 Axes>"
      ]
     },
     "metadata": {},
     "output_type": "display_data"
    }
   ],
   "source": [
    "# Plot distribution of transaction dates\n",
    "plt.figure(figsize=(10, 6))\n",
    "sns.histplot(df['transaction_time_hour'])\n",
    "plt.title('Distribution of Transaction Dates')\n",
    "plt.xlabel('Transaction Date')\n",
    "plt.ylabel('Frequency')\n",
    "\n",
    "plt.tight_layout()\n",
    "plt.show()"
   ]
  },
  {
   "cell_type": "code",
   "execution_count": 138,
   "id": "ac77a28d-5dcf-48e6-a683-a61e9536d9f2",
   "metadata": {},
   "outputs": [
    {
     "data": {
      "image/png": "[encoded data removed]",
      "text/plain": [
       "<Figure size 1000x600 with 1 Axes>"
      ]
     },
     "metadata": {},
     "output_type": "display_data"
    }
   ],
   "source": [
    "# Plot distribution of transaction dates\n",
    "plt.figure(figsize=(10, 6))\n",
    "sns.histplot(fraud_df['transaction_time_hour'])\n",
    "plt.title('Distribution of Transaction Dates')\n",
    "plt.xlabel('Transaction Date')\n",
    "plt.ylabel('Frequency')\n",
    "\n",
    "plt.tight_layout()\n",
    "plt.show()"
   ]
  },
  {
   "cell_type": "code",
   "execution_count": 77,
   "id": "54835195-c889-4546-b7d2-d83244c1a673",
   "metadata": {},
   "outputs": [
    {
     "data": {
      "text/plain": [
       "0        16:22:14\n",
       "1        15:16:35\n",
       "2        11:57:40\n",
       "3        18:26:30\n",
       "4        19:03:11\n",
       "           ...   \n",
       "99995    13:23:04\n",
       "99996    17:25:55\n",
       "99997         NaN\n",
       "99998    11:05:52\n",
       "99999    19:41:37\n",
       "Name: transaction_time, Length: 100000, dtype: object"
      ]
     },
     "execution_count": 77,
     "metadata": {},
     "output_type": "execute_result"
    }
   ],
   "source": [
    "df['transaction_time']"
   ]
  },
  {
   "cell_type": "code",
   "execution_count": null,
   "id": "e26cf13c-675f-4243-89e6-447c710a7c05",
   "metadata": {},
   "outputs": [],
   "source": []
  },
  {
   "cell_type": "code",
   "execution_count": null,
   "id": "a27ca32c-e67a-4e27-9fd5-7e01b4b0f070",
   "metadata": {},
   "outputs": [],
   "source": []
  },
  {
   "cell_type": "code",
   "execution_count": null,
   "id": "5ccba0a8-fe47-459e-bb20-ce919243d2ea",
   "metadata": {},
   "outputs": [],
   "source": []
  },
  {
   "cell_type": "code",
   "execution_count": 10,
   "id": "7d8b7141-e7c7-43d9-be43-47ba2090a491",
   "metadata": {},
   "outputs": [
    {
     "data": {
      "text/plain": [
       "Fraud Indicator (Yes/No)\n",
       "No     99735\n",
       "Yes      265\n",
       "Name: count, dtype: int64"
      ]
     },
     "execution_count": 10,
     "metadata": {},
     "output_type": "execute_result"
    }
   ],
   "source": [
    "df[\"Fraud Indicator (Yes/No)\"].value_counts()"
   ]
  },
  {
   "cell_type": "code",
   "execution_count": 11,
   "id": "94460b5b-c8fa-4ec2-a436-7092ef6b2ae1",
   "metadata": {},
   "outputs": [
    {
     "data": {
      "text/plain": [
       "Payment Method\n",
       "Online                   36695\n",
       "Paypass - Contactless    21001\n",
       "Chip                     17290\n",
       "Subscription             11184\n",
       "PayPass - Wallet          7586\n",
       "Magnetic Stripe           3749\n",
       "Unknown                    900\n",
       "Phone                      772\n",
       "Postal                     609\n",
       "Mobile Wallet              114\n",
       "Tap-to-Pay                  98\n",
       "eCommerce                    2\n",
       "Name: count, dtype: int64"
      ]
     },
     "execution_count": 11,
     "metadata": {},
     "output_type": "execute_result"
    }
   ],
   "source": [
    "df[\"Payment Method\"].value_counts()"
   ]
  },
  {
   "cell_type": "code",
   "execution_count": 12,
   "id": "b159ac98-84c8-4b6a-9006-2996e394b9af",
   "metadata": {},
   "outputs": [
    {
     "data": {
      "text/plain": [
       "Merchant Location\n",
       "USA    85155\n",
       "GBR     3573\n",
       "FRA     1425\n",
       "ESP     1018\n",
       "NLD      775\n",
       "       ...  \n",
       "BHR        1\n",
       "GLP        1\n",
       "GUY        1\n",
       "BIH        1\n",
       "BLR        1\n",
       "Name: count, Length: 137, dtype: int64"
      ]
     },
     "execution_count": 12,
     "metadata": {},
     "output_type": "execute_result"
    }
   ],
   "source": [
    "df[\"Merchant Location\"].value_counts()"
   ]
  },
  {
   "cell_type": "code",
   "execution_count": 28,
   "id": "df2213f2-a15a-4dd7-8ccb-3c4199523fcb",
   "metadata": {},
   "outputs": [
    {
     "data": {
      "text/plain": [
       "['Transaction Date',\n",
       " 'Transaction Time',\n",
       " 'Risk Assessment',\n",
       " 'Payment Method',\n",
       " 'Transaction Value',\n",
       " 'Merchant Location',\n",
       " 'Card Present Status',\n",
       " 'Chip Usage',\n",
       " 'Cross-border Transaction (Yes/No)',\n",
       " 'Acquiring Institution ID',\n",
       " 'Merchant Identifier',\n",
       " 'Merchant Category Code (MCC)',\n",
       " 'Fraud Indicator (Yes/No)']"
      ]
     },
     "execution_count": 28,
     "metadata": {},
     "output_type": "execute_result"
    }
   ],
   "source": [
    "x = list(df.columns)\n",
    "x.remove('Card Identifier')\n",
    "x"
   ]
  },
  {
   "cell_type": "code",
   "execution_count": 15,
   "id": "c4a3cc6d-b392-47e9-a5c1-dda56c0e02cf",
   "metadata": {},
   "outputs": [
    {
     "data": {
      "text/plain": [
       "Card Identifier                              object\n",
       "Transaction Date                     datetime64[ns]\n",
       "Transaction Time                             object\n",
       "Risk Assessment                             float64\n",
       "Payment Method                               object\n",
       "Transaction Value                           float64\n",
       "Merchant Location                            object\n",
       "Card Present Status                          object\n",
       "Chip Usage                                   object\n",
       "Cross-border Transaction (Yes/No)            object\n",
       "Acquiring Institution ID                     object\n",
       "Merchant Identifier                          object\n",
       "Merchant Category Code (MCC)                float64\n",
       "Fraud Indicator (Yes/No)                     object\n",
       "dtype: object"
      ]
     },
     "execution_count": 15,
     "metadata": {},
     "output_type": "execute_result"
    }
   ],
   "source": [
    "df.dtypes"
   ]
  },
  {
   "cell_type": "code",
   "execution_count": 11,
   "id": "77765ca0-778d-4d1d-a7c7-1837f819ed89",
   "metadata": {},
   "outputs": [
    {
     "data": {
      "image/png": "[encoded data removed]",
      "text/plain": [
       "<Figure size 1000x500 with 1 Axes>"
      ]
     },
     "metadata": {},
     "output_type": "display_data"
    },
    {
     "data": {
      "image/png": "[encoded data removed]",
      "text/plain": [
       "<Figure size 1000x500 with 1 Axes>"
      ]
     },
     "metadata": {},
     "output_type": "display_data"
    }
   ],
   "source": [
    "\n",
    "\n",
    "# Separate the data into two groups based on fraud type\n",
    "fraud_yes = df[df['Fraud Indicator (Yes/No)'] == 'Yes']\n",
    "total_data = df\n",
    "\n",
    "\n",
    "features_to_compare = list(df.columns)\n",
    "# features_to_compare.remove('Fraud Indicator (Yes/No)')\n",
    "# x\n",
    "# List of features you want to compare distributions for\n",
    "features_to_compare = ['Risk Assessment', 'Transaction Value']  # Add more features as needed\n",
    "\n",
    "# Plotting\n",
    "for feature in features_to_compare:\n",
    "    plt.figure(figsize=(10, 5))\n",
    "    \n",
    "    # Plot total distribution using KDE\n",
    "    sns.kdeplot(total_data[feature], color='blue', label='Total Transactions')\n",
    "    \n",
    "    # Plot distribution for fraud type 'yes' using KDE\n",
    "    sns.kdeplot(fraud_yes[feature], color='red', label='Fraudulent Transactions')\n",
    "    \n",
    "    plt.title(f'Distribution Comparison for {feature}')\n",
    "    plt.legend()\n",
    "    plt.xlabel('Risk Assessment')\n",
    "    plt.ylabel('Density')\n",
    "    plt.show()"
   ]
  },
  {
   "cell_type": "code",
   "execution_count": 37,
   "id": "93f0e36a-76e8-4b93-91e4-ad51522b35ce",
   "metadata": {},
   "outputs": [
    {
     "data": {
      "text/plain": [
       "Merchant Category Code (MCC)\n",
       "5812.0    16344\n",
       "5814.0    11159\n",
       "5411.0     5611\n",
       "4121.0     4696\n",
       "4829.0     3402\n",
       "          ...  \n",
       "3528.0        1\n",
       "3136.0        1\n",
       "7623.0        1\n",
       "3099.0        1\n",
       "3390.0        1\n",
       "Name: count, Length: 410, dtype: int64"
      ]
     },
     "execution_count": 37,
     "metadata": {},
     "output_type": "execute_result"
    }
   ],
   "source": [
    "total_data['Merchant Category Code (MCC)'].value_counts()"
   ]
  },
  {
   "cell_type": "code",
   "execution_count": 39,
   "id": "f983c9ec-dd2c-4195-bd52-3a17c7d8c655",
   "metadata": {},
   "outputs": [
    {
     "data": {
      "text/plain": [
       "Card Identifier\n",
       "card 818     9\n",
       "card 867     7\n",
       "card 3242    6\n",
       "card 3751    5\n",
       "card 2588    5\n",
       "            ..\n",
       "card 4945    1\n",
       "card 6868    1\n",
       "card 5472    1\n",
       "card 7013    1\n",
       "card 5818    1\n",
       "Name: count, Length: 183, dtype: int64"
      ]
     },
     "execution_count": 39,
     "metadata": {},
     "output_type": "execute_result"
    }
   ],
   "source": [
    "fraud_yes['Card Identifier'].value_counts()"
   ]
  },
  {
   "cell_type": "code",
   "execution_count": 38,
   "id": "919b5610-bba4-4caa-9f92-7e2423274bb1",
   "metadata": {},
   "outputs": [
    {
     "data": {
      "text/plain": [
       "Merchant Category Code (MCC)\n",
       "7311.0    19\n",
       "5812.0    18\n",
       "5814.0    13\n",
       "5816.0    13\n",
       "4899.0    11\n",
       "          ..\n",
       "5541.0     1\n",
       "3638.0     1\n",
       "5921.0     1\n",
       "5462.0     1\n",
       "3751.0     1\n",
       "Name: count, Length: 76, dtype: int64"
      ]
     },
     "execution_count": 38,
     "metadata": {},
     "output_type": "execute_result"
    }
   ],
   "source": [
    "fraud_yes['Merchant Category Code (MCC)'].value_counts()"
   ]
  },
  {
   "cell_type": "code",
   "execution_count": 40,
   "id": "991274b5-2160-405f-9d84-449984dd8270",
   "metadata": {},
   "outputs": [
    {
     "data": {
      "text/html": [
       "<div>\n",
       "<style scoped>\n",
       "    .dataframe tbody tr th:only-of-type {\n",
       "        vertical-align: middle;\n",
       "    }\n",
       "\n",
       "    .dataframe tbody tr th {\n",
       "        vertical-align: top;\n",
       "    }\n",
       "\n",
       "    .dataframe thead th {\n",
       "        text-align: right;\n",
       "    }\n",
       "</style>\n",
       "<table border=\"1\" class=\"dataframe\">\n",
       "  <thead>\n",
       "    <tr style=\"text-align: right;\">\n",
       "      <th></th>\n",
       "      <th>Transaction Date</th>\n",
       "      <th>Risk Assessment</th>\n",
       "      <th>Transaction Value</th>\n",
       "      <th>Merchant Category Code (MCC)</th>\n",
       "    </tr>\n",
       "  </thead>\n",
       "  <tbody>\n",
       "    <tr>\n",
       "      <th>count</th>\n",
       "      <td>100000</td>\n",
       "      <td>99028.000000</td>\n",
       "      <td>100000.000000</td>\n",
       "      <td>99997.000000</td>\n",
       "    </tr>\n",
       "    <tr>\n",
       "      <th>mean</th>\n",
       "      <td>2023-06-28 20:34:09.120000256</td>\n",
       "      <td>843.157905</td>\n",
       "      <td>71.130702</td>\n",
       "      <td>5807.915887</td>\n",
       "    </tr>\n",
       "    <tr>\n",
       "      <th>min</th>\n",
       "      <td>2023-01-01 00:00:00</td>\n",
       "      <td>2.000000</td>\n",
       "      <td>0.000000</td>\n",
       "      <td>742.000000</td>\n",
       "    </tr>\n",
       "    <tr>\n",
       "      <th>25%</th>\n",
       "      <td>2023-03-30 00:00:00</td>\n",
       "      <td>352.000000</td>\n",
       "      <td>6.840000</td>\n",
       "      <td>5411.000000</td>\n",
       "    </tr>\n",
       "    <tr>\n",
       "      <th>50%</th>\n",
       "      <td>2023-06-27 00:00:00</td>\n",
       "      <td>592.000000</td>\n",
       "      <td>19.230000</td>\n",
       "      <td>5812.000000</td>\n",
       "    </tr>\n",
       "    <tr>\n",
       "      <th>75%</th>\n",
       "      <td>2023-09-27 00:00:00</td>\n",
       "      <td>1052.000000</td>\n",
       "      <td>50.000000</td>\n",
       "      <td>5942.000000</td>\n",
       "    </tr>\n",
       "    <tr>\n",
       "      <th>max</th>\n",
       "      <td>2023-12-31 00:00:00</td>\n",
       "      <td>4932.000000</td>\n",
       "      <td>15000.000000</td>\n",
       "      <td>9999.000000</td>\n",
       "    </tr>\n",
       "    <tr>\n",
       "      <th>std</th>\n",
       "      <td>NaN</td>\n",
       "      <td>747.146439</td>\n",
       "      <td>296.637398</td>\n",
       "      <td>1061.918829</td>\n",
       "    </tr>\n",
       "  </tbody>\n",
       "</table>\n",
       "</div>"
      ],
      "text/plain": [
       "                    Transaction Date  Risk Assessment  Transaction Value  \\\n",
       "count                         100000     99028.000000      100000.000000   \n",
       "mean   2023-06-28 20:34:09.120000256       843.157905          71.130702   \n",
       "min              2023-01-01 00:00:00         2.000000           0.000000   \n",
       "25%              2023-03-30 00:00:00       352.000000           6.840000   \n",
       "50%              2023-06-27 00:00:00       592.000000          19.230000   \n",
       "75%              2023-09-27 00:00:00      1052.000000          50.000000   \n",
       "max              2023-12-31 00:00:00      4932.000000       15000.000000   \n",
       "std                              NaN       747.146439         296.637398   \n",
       "\n",
       "       Merchant Category Code (MCC)  \n",
       "count                  99997.000000  \n",
       "mean                    5807.915887  \n",
       "min                      742.000000  \n",
       "25%                     5411.000000  \n",
       "50%                     5812.000000  \n",
       "75%                     5942.000000  \n",
       "max                     9999.000000  \n",
       "std                     1061.918829  "
      ]
     },
     "execution_count": 40,
     "metadata": {},
     "output_type": "execute_result"
    }
   ],
   "source": [
    "total_data.describe()"
   ]
  },
  {
   "cell_type": "code",
   "execution_count": null,
   "id": "0ff3f54e-b782-40c3-bc59-0a4826e37f25",
   "metadata": {},
   "outputs": [],
   "source": []
  }
 ],
 "metadata": {
  "kernelspec": {
   "display_name": "Python 3 (ipykernel)",
   "language": "python",
   "name": "python3"
  },
  "language_info": {
   "codemirror_mode": {
    "name": "ipython",
    "version": 3
   },
   "file_extension": ".py",
   "mimetype": "text/x-python",
   "name": "python",
   "nbconvert_exporter": "python",
   "pygments_lexer": "ipython3",
   "version": "3.10.0"
  }
 },
 "nbformat": 4,
 "nbformat_minor": 5
}
